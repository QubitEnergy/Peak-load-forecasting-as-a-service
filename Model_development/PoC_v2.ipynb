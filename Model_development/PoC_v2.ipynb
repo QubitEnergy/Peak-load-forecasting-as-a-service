{
 "cells": [
  {
   "cell_type": "markdown",
   "metadata": {},
   "source": [
    "# PoC v2: Minute-Level Peak Forecasting with D-PAD–Inspired Decomposition\n",
    "\n",
    "**What’s new vs. PoC v1?**  \n",
    "- **Finer resolution**: we work directly on minute-level data (resampled to 15 min) rather than hourly.  \n",
    "- **Richer decomposition**: instead of a single median split (base vs. peak), we adopt a **multi-frequency, deep-shallow disentangling** inspired by **Xia et al. (2024) “D-PAD”**:  \n",
    "  1. **MCD block**: morphological envelopes → multiple IMFs (“shallow” disentanglement)  \n",
    "  2. **D-R-D module**: each IMF branch split and re-recombined (“deep” disentanglement)  \n",
    "- **Better features**: we extract a suite of component-based features rather than only global median-based peaks.  \n",
    "- **Papers it builds on**:  \n",
    "  - **Z. Xia et al. (2024)**, _Day-Ahead Electricity Consumption Prediction_ (peak-load magnitude & timing)  \n",
    "  - **X. Yuan & L. Chen (2024)**, _D-PAD: Deep-Shallow Multi-Frequency Patterns Disentangling_  \n"
   ]
  },
  {
   "cell_type": "code",
   "execution_count": 31,
   "metadata": {},
   "outputs": [],
   "source": [
    "import pandas as pd\n",
    "import numpy as np\n",
    "from scipy.ndimage import maximum_filter1d, minimum_filter1d\n",
    "from sklearn.ensemble import RandomForestRegressor\n",
    "from sklearn.model_selection import train_test_split\n",
    "from sklearn.metrics import mean_absolute_error\n",
    "\n",
    "# adjust path as needed\n",
    "df = pd.read_csv(\"energy_and_temperature_minute_data.csv\", \n",
    "                 sep=\";\", parse_dates=[\"timestamp_utc\"])\n",
    "df.set_index(\"timestamp_utc\", inplace=True)"
   ]
  },
  {
   "cell_type": "markdown",
   "metadata": {},
   "source": [
    "## 2) Resample to 15 min & Filter Complete Days"
   ]
  },
  {
   "cell_type": "code",
   "execution_count": 32,
   "metadata": {},
   "outputs": [
    {
     "name": "stdout",
     "output_type": "stream",
     "text": [
      "Remaining days: 35, slots/day: 96\n"
     ]
    },
    {
     "name": "stderr",
     "output_type": "stream",
     "text": [
      "C:\\Users\\saidh\\AppData\\Local\\Temp\\ipykernel_46520\\2765406801.py:9: FutureWarning: 'T' is deprecated and will be removed in a future version, please use 'min' instead.\n",
      "  data = df[[\"active_power_W\", \"air_temperature\"]].resample(\"15T\").mean()\n"
     ]
    }
   ],
   "source": [
    "# Cell 2 (fixed)\n",
    "\n",
    "# 1) If you ever lost your datetime index, reset and re-parse:\n",
    "df = df.reset_index()\n",
    "df[\"timestamp_utc\"] = pd.to_datetime(df[\"timestamp_utc\"], utc=True, errors=\"coerce\")\n",
    "df = df.set_index(\"timestamp_utc\")\n",
    "\n",
    "# 2) Now your index is a proper DatetimeIndex—resample:\n",
    "data = df[[\"active_power_W\", \"air_temperature\"]].resample(\"15T\").mean()\n",
    "\n",
    "# 3) Tag each row with its calendar day:\n",
    "data[\"date\"] = data.index.date   # this is a pandas Series of Python dates\n",
    "\n",
    "# 4) Count how many 15-min slots each day has:\n",
    "day_counts = data.groupby(\"date\")[\"active_power_W\"].count()\n",
    "\n",
    "# 5) Keep only the “good” days that have 96 slots:\n",
    "good_days = day_counts[day_counts == 96].index       # an Index of date objects\n",
    "data = data[data[\"date\"].isin(good_days)]            # filter via the Series\n",
    "\n",
    "# 6) (Optional) drop the helper “date” column now that you’re cleaned up:\n",
    "data = data.drop(columns=\"date\")\n",
    "\n",
    "print(f\"Remaining days: {len(good_days)}, slots/day: {data.groupby(data.index.date).count().iloc[0,0]}\")\n"
   ]
  },
  {
   "cell_type": "markdown",
   "metadata": {},
   "source": [
    "## 3) “Shallow” MCD Block (Morphological EMD)"
   ]
  },
  {
   "cell_type": "code",
   "execution_count": 33,
   "metadata": {},
   "outputs": [],
   "source": [
    "def MCD(series, n_imfs=3, win=8):\n",
    "    \"\"\"Morphological EMPD: returns (T×n_imfs) array of IMFs.\"\"\"\n",
    "    x = series.values.astype(float)\n",
    "    res = x.copy()\n",
    "    imfs = []\n",
    "    for _ in range(n_imfs):\n",
    "        up = maximum_filter1d(res, size=win, mode=\"reflect\")\n",
    "        lo = minimum_filter1d(res, size=win, mode=\"reflect\")\n",
    "        m  = 0.5*(up+lo)\n",
    "        imf = res - m\n",
    "        imfs.append(imf)\n",
    "        res = m\n",
    "    return np.stack(imfs, axis=1)  # shape (T,n_imfs)\n"
   ]
  },
  {
   "cell_type": "markdown",
   "metadata": {},
   "source": [
    "## 4) “Deep” D-R-D Module (Branch & Recombine)"
   ]
  },
  {
   "cell_type": "code",
   "execution_count": 34,
   "metadata": {},
   "outputs": [],
   "source": [
    "def DRD(imfs):\n",
    "    \"\"\"Split each IMF into positive vs negative branches → (T×2n_imfs).\"\"\"\n",
    "    pos = np.maximum(imfs, 0)\n",
    "    neg = np.maximum(-imfs, 0)\n",
    "    return np.concatenate([pos, neg], axis=1)\n"
   ]
  },
  {
   "cell_type": "markdown",
   "metadata": {},
   "source": [
    "## 5) Daily Feature Extraction"
   ]
  },
  {
   "cell_type": "code",
   "execution_count": 35,
   "metadata": {},
   "outputs": [],
   "source": [
    "records = []\n",
    "for day, grp in data.groupby(data.index.date):\n",
    "    s = grp[\"active_power_W\"]\n",
    "    imfs = MCD(s, n_imfs=3, win=8)\n",
    "    comp = DRD(imfs)            # shape (96,6)\n",
    "    base_feat = comp[:,-1].sum()     # last residual branch\n",
    "    peak_feats = comp.max(axis=0)    # 6 peak-branch maxima\n",
    "    peak_time = s.idxmax().hour + s.idxmax().minute/60\n",
    "    temp = grp[\"air_temperature\"].mean()\n",
    "    rec = {\"date\":pd.to_datetime(str(day)), \"base\":base_feat, \"peak_hr\":peak_time, \"temp\":temp}\n",
    "    rec.update({f\"c{i}\":peak_feats[i] for i in range(comp.shape[1])})\n",
    "    records.append(rec)\n",
    "\n",
    "df_feat = pd.DataFrame(records).set_index(\"date\").sort_index()\n"
   ]
  },
  {
   "cell_type": "markdown",
   "metadata": {},
   "source": [
    "## 6) Lag Features & Train/Test Split"
   ]
  },
  {
   "cell_type": "code",
   "execution_count": 36,
   "metadata": {},
   "outputs": [],
   "source": [
    "for lag in (1,2,7):\n",
    "    df_feat[f\"lag{lag}_c0\"] = df_feat[\"c0\"].shift(lag)\n",
    "df_feat.dropna(inplace=True)\n",
    "\n",
    "X = df_feat[[f\"lag{lag}_c0\" for lag in (1,2,7)] + [\"temp\"]]\n",
    "y_mag  = df_feat[\"c0\"]          # predict magnitude\n",
    "y_time = df_feat[\"peak_hr\"]     # predict timing\n"
   ]
  },
  {
   "cell_type": "markdown",
   "metadata": {},
   "source": [
    "## 7) Modeling & Evaluation\n",
    "\n"
   ]
  },
  {
   "cell_type": "code",
   "execution_count": 37,
   "metadata": {},
   "outputs": [
    {
     "name": "stdout",
     "output_type": "stream",
     "text": [
      "MAE magnitude (kW): 18.473226499684717\n",
      "MAE timing   (hrs): 1.6008333333333333\n"
     ]
    }
   ],
   "source": [
    "Xtr, Xte, ym_tr, ym_te = train_test_split(X,y_mag,  test_size=0.2, random_state=0)\n",
    "_,   _,    yt_tr, yt_te = train_test_split(X,y_time,test_size=0.2, random_state=0)\n",
    "\n",
    "m_mag = RandomForestRegressor(100, random_state=0).fit(Xtr, ym_tr)\n",
    "m_tim = RandomForestRegressor(100, random_state=0).fit(Xtr, yt_tr)\n",
    "\n",
    "pm = m_mag.predict(Xte)\n",
    "pt = m_tim.predict(Xte)\n",
    "\n",
    "print(\"MAE magnitude (kW):\",  mean_absolute_error(ym_te, pm))\n",
    "print(\"MAE timing   (hrs):\", mean_absolute_error(yt_te, pt))\n"
   ]
  },
  {
   "cell_type": "markdown",
   "metadata": {},
   "source": []
  },
  {
   "cell_type": "code",
   "execution_count": null,
   "metadata": {},
   "outputs": [],
   "source": []
  }
 ],
 "metadata": {
  "kernelspec": {
   "display_name": "base",
   "language": "python",
   "name": "python3"
  },
  "language_info": {
   "codemirror_mode": {
    "name": "ipython",
    "version": 3
   },
   "file_extension": ".py",
   "mimetype": "text/x-python",
   "name": "python",
   "nbconvert_exporter": "python",
   "pygments_lexer": "ipython3",
   "version": "3.12.3"
  }
 },
 "nbformat": 4,
 "nbformat_minor": 2
}
